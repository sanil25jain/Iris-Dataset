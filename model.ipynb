{
 "cells": [
  {
   "cell_type": "code",
   "execution_count": 1,
   "metadata": {},
   "outputs": [],
   "source": [
    "import pandas as pd\n",
    "import matplotlib.pyplot as plt\n",
    "%matplotlib inline\n",
    "from sklearn import datasets\n",
    "from sklearn.model_selection import train_test_split\n",
    "import torch\n",
    "import torch.nn as nn\n",
    "import torch.nn.functional as F"
   ]
  },
  {
   "cell_type": "code",
   "execution_count": 2,
   "metadata": {},
   "outputs": [],
   "source": [
    "iris = datasets.load_iris()"
   ]
  },
  {
   "cell_type": "code",
   "execution_count": 3,
   "metadata": {},
   "outputs": [],
   "source": [
    "df = pd.DataFrame(iris.data, columns=iris.feature_names)\n",
    "df['target'] = iris.target"
   ]
  },
  {
   "cell_type": "code",
   "execution_count": 4,
   "metadata": {},
   "outputs": [
    {
     "data": {
      "text/html": [
       "<div>\n",
       "<style scoped>\n",
       "    .dataframe tbody tr th:only-of-type {\n",
       "        vertical-align: middle;\n",
       "    }\n",
       "\n",
       "    .dataframe tbody tr th {\n",
       "        vertical-align: top;\n",
       "    }\n",
       "\n",
       "    .dataframe thead th {\n",
       "        text-align: right;\n",
       "    }\n",
       "</style>\n",
       "<table border=\"1\" class=\"dataframe\">\n",
       "  <thead>\n",
       "    <tr style=\"text-align: right;\">\n",
       "      <th></th>\n",
       "      <th>sepal length (cm)</th>\n",
       "      <th>sepal width (cm)</th>\n",
       "      <th>petal length (cm)</th>\n",
       "      <th>petal width (cm)</th>\n",
       "      <th>target</th>\n",
       "    </tr>\n",
       "  </thead>\n",
       "  <tbody>\n",
       "    <tr>\n",
       "      <th>0</th>\n",
       "      <td>5.1</td>\n",
       "      <td>3.5</td>\n",
       "      <td>1.4</td>\n",
       "      <td>0.2</td>\n",
       "      <td>0</td>\n",
       "    </tr>\n",
       "    <tr>\n",
       "      <th>1</th>\n",
       "      <td>4.9</td>\n",
       "      <td>3.0</td>\n",
       "      <td>1.4</td>\n",
       "      <td>0.2</td>\n",
       "      <td>0</td>\n",
       "    </tr>\n",
       "    <tr>\n",
       "      <th>2</th>\n",
       "      <td>4.7</td>\n",
       "      <td>3.2</td>\n",
       "      <td>1.3</td>\n",
       "      <td>0.2</td>\n",
       "      <td>0</td>\n",
       "    </tr>\n",
       "    <tr>\n",
       "      <th>3</th>\n",
       "      <td>4.6</td>\n",
       "      <td>3.1</td>\n",
       "      <td>1.5</td>\n",
       "      <td>0.2</td>\n",
       "      <td>0</td>\n",
       "    </tr>\n",
       "    <tr>\n",
       "      <th>4</th>\n",
       "      <td>5.0</td>\n",
       "      <td>3.6</td>\n",
       "      <td>1.4</td>\n",
       "      <td>0.2</td>\n",
       "      <td>0</td>\n",
       "    </tr>\n",
       "  </tbody>\n",
       "</table>\n",
       "</div>"
      ],
      "text/plain": [
       "   sepal length (cm)  sepal width (cm)  petal length (cm)  petal width (cm)  \\\n",
       "0                5.1               3.5                1.4               0.2   \n",
       "1                4.9               3.0                1.4               0.2   \n",
       "2                4.7               3.2                1.3               0.2   \n",
       "3                4.6               3.1                1.5               0.2   \n",
       "4                5.0               3.6                1.4               0.2   \n",
       "\n",
       "   target  \n",
       "0       0  \n",
       "1       0  \n",
       "2       0  \n",
       "3       0  \n",
       "4       0  "
      ]
     },
     "execution_count": 4,
     "metadata": {},
     "output_type": "execute_result"
    }
   ],
   "source": [
    "df.head()"
   ]
  },
  {
   "cell_type": "code",
   "execution_count": 5,
   "metadata": {},
   "outputs": [],
   "source": [
    "X = df.drop('target', axis=1)\n",
    "y = df['target']"
   ]
  },
  {
   "cell_type": "code",
   "execution_count": 6,
   "metadata": {},
   "outputs": [],
   "source": [
    "X = X.values\n",
    "y = y.values"
   ]
  },
  {
   "cell_type": "code",
   "execution_count": 7,
   "metadata": {},
   "outputs": [],
   "source": [
    "X_train, X_test, y_train, y_test = train_test_split(X, y, test_size=0.2, random_state=41)"
   ]
  },
  {
   "cell_type": "code",
   "execution_count": 8,
   "metadata": {},
   "outputs": [],
   "source": [
    "X_train = torch.FloatTensor(X_train)\n",
    "X_test = torch.FloatTensor(X_test)\n",
    "y_train = torch.LongTensor(y_train)\n",
    "y_test = torch.LongTensor(y_test)"
   ]
  },
  {
   "cell_type": "code",
   "execution_count": 9,
   "metadata": {},
   "outputs": [],
   "source": [
    "class Model(nn.Module):\n",
    "    def __init__(self, in_features=4, h1=8, h2=9, out_features=3):\n",
    "        super().__init__()\n",
    "        self.fc1 = nn.Linear(in_features, h1)\n",
    "        self.fc2 = nn.Linear(h1, h2)\n",
    "        self.out = nn.Linear(h2, out_features)\n",
    "    \n",
    "    def forward(self, x):\n",
    "        x = F.relu(self.fc1(x))\n",
    "        x = F.relu(self.fc2(x))\n",
    "        x = self.out(x)\n",
    "\n",
    "        return x"
   ]
  },
  {
   "cell_type": "code",
   "execution_count": 10,
   "metadata": {},
   "outputs": [],
   "source": [
    "torch.manual_seed(41)\n",
    "model = Model()"
   ]
  },
  {
   "cell_type": "code",
   "execution_count": 11,
   "metadata": {},
   "outputs": [],
   "source": [
    "criterion = nn.CrossEntropyLoss()\n",
    "optimizer = torch.optim.Adam(model.parameters(), lr=0.01)"
   ]
  },
  {
   "cell_type": "code",
   "execution_count": 12,
   "metadata": {},
   "outputs": [
    {
     "name": "stdout",
     "output_type": "stream",
     "text": [
      "Epoch: 0 and loss: 1.125203251838684\n",
      "Epoch: 10 and loss: 1.0097211599349976\n",
      "Epoch: 20 and loss: 0.8162346482276917\n",
      "Epoch: 30 and loss: 0.5859931111335754\n",
      "Epoch: 40 and loss: 0.4003389775753021\n",
      "Epoch: 50 and loss: 0.26794710755348206\n",
      "Epoch: 60 and loss: 0.1796349436044693\n",
      "Epoch: 70 and loss: 0.12165623158216476\n",
      "Epoch: 80 and loss: 0.0860651284456253\n",
      "Epoch: 90 and loss: 0.06522615253925323\n"
     ]
    }
   ],
   "source": [
    "epochs = 100\n",
    "losses = []\n",
    "for i in range(epochs):\n",
    "    y_pred = model.forward(X_train)\n",
    "    loss = criterion(y_pred, y_train)\n",
    "    losses.append(loss.detach().numpy())\n",
    "    if i % 10 == 0:\n",
    "        print(f'Epoch: {i} and loss: {loss}')\n",
    "    optimizer.zero_grad()\n",
    "    loss.backward()\n",
    "    optimizer.step()"
   ]
  },
  {
   "cell_type": "code",
   "execution_count": 13,
   "metadata": {},
   "outputs": [
    {
     "data": {
      "text/plain": [
       "Text(0.5, 0, 'Epoch')"
      ]
     },
     "execution_count": 13,
     "metadata": {},
     "output_type": "execute_result"
    },
    {
     "data": {
      "image/png": "[encoded data removed]",
      "text/plain": [
       "<Figure size 640x480 with 1 Axes>"
      ]
     },
     "metadata": {},
     "output_type": "display_data"
    }
   ],
   "source": [
    "plt.plot(range(epochs), losses)\n",
    "plt.ylabel(\"loss/error\")\n",
    "plt.xlabel('Epoch')"
   ]
  },
  {
   "cell_type": "code",
   "execution_count": 14,
   "metadata": {},
   "outputs": [],
   "source": [
    "with torch.no_grad(): \n",
    "  y_eval = model.forward(X_test)\n",
    "  loss = criterion(y_eval, y_test)"
   ]
  },
  {
   "cell_type": "code",
   "execution_count": 15,
   "metadata": {},
   "outputs": [
    {
     "data": {
      "text/plain": [
       "tensor(0.1315)"
      ]
     },
     "execution_count": 15,
     "metadata": {},
     "output_type": "execute_result"
    }
   ],
   "source": [
    "loss"
   ]
  },
  {
   "cell_type": "code",
   "execution_count": 16,
   "metadata": {},
   "outputs": [
    {
     "name": "stdout",
     "output_type": "stream",
     "text": [
      "1.)  tensor([-5.8771,  4.4629,  6.5155]) \t 2 \t 2\n",
      "We got 1 correct!\n",
      "2.)  tensor([-7.5451,  4.1668,  9.7293]) \t 2 \t 2\n",
      "We got 2 correct!\n",
      "3.)  tensor([-8.4517,  5.1275, 10.2015]) \t 2 \t 2\n",
      "We got 3 correct!\n",
      "4.)  tensor([-4.3411,  5.6280,  2.5636]) \t 1 \t 1\n",
      "We got 4 correct!\n",
      "5.)  tensor([-7.1838,  4.8757,  8.3024]) \t 2 \t 2\n",
      "We got 5 correct!\n",
      "6.)  tensor([-3.3940,  5.3421,  1.2802]) \t 1 \t 1\n",
      "We got 6 correct!\n",
      "7.)  tensor([-5.9240,  4.9826,  6.0025]) \t 2 \t 2\n",
      "We got 7 correct!\n",
      "8.)  tensor([-4.2895,  5.7016,  2.3920]) \t 1 \t 1\n",
      "We got 8 correct!\n",
      "9.)  tensor([-6.5369,  4.9261,  7.1291]) \t 2 \t 2\n",
      "We got 9 correct!\n",
      "10.)  tensor([-8.0526,  4.4129, 10.3325]) \t 2 \t 2\n",
      "We got 10 correct!\n",
      "11.)  tensor([-5.6775,  4.9505,  5.6248]) \t 2 \t 2\n",
      "We got 11 correct!\n",
      "12.)  tensor([ 4.5748, -2.2579, -2.8925]) \t 0 \t 0\n",
      "We got 12 correct!\n",
      "13.)  tensor([ 4.2646, -2.0055, -2.7342]) \t 0 \t 0\n",
      "We got 13 correct!\n",
      "14.)  tensor([-2.1081,  4.0482,  0.5803]) \t 1 \t 1\n",
      "We got 14 correct!\n",
      "15.)  tensor([ 3.4608, -1.2147, -2.3488]) \t 0 \t 0\n",
      "We got 15 correct!\n",
      "16.)  tensor([-5.4739,  5.1174,  5.0966]) \t 2 \t 1\n",
      "We got 15 correct!\n",
      "17.)  tensor([ 4.0637, -1.8045, -2.6504]) \t 0 \t 0\n",
      "We got 16 correct!\n",
      "18.)  tensor([-5.8090,  4.6057,  6.2494]) \t 1 \t 2\n",
      "We got 16 correct!\n",
      "19.)  tensor([ 4.9250, -2.5763, -3.0545]) \t 0 \t 0\n",
      "We got 17 correct!\n",
      "20.)  tensor([ 3.4559, -1.2559, -2.3637]) \t 0 \t 0\n",
      "We got 18 correct!\n",
      "21.)  tensor([-2.6161,  4.5584,  0.8575]) \t 1 \t 1\n",
      "We got 19 correct!\n",
      "22.)  tensor([-7.7427,  4.7379,  9.4233]) \t 2 \t 2\n",
      "We got 20 correct!\n",
      "23.)  tensor([ 3.5777, -1.3269, -2.4109]) \t 0 \t 0\n",
      "We got 21 correct!\n",
      "24.)  tensor([ 4.5445, -2.2478, -2.8698]) \t 0 \t 0\n",
      "We got 22 correct!\n",
      "25.)  tensor([-2.6548,  4.6138,  0.8825]) \t 1 \t 1\n",
      "We got 23 correct!\n",
      "26.)  tensor([-3.2832,  5.2189,  1.2163]) \t 1 \t 1\n",
      "We got 24 correct!\n",
      "27.)  tensor([-4.6527,  5.7790,  2.9302]) \t 1 \t 1\n",
      "We got 25 correct!\n",
      "28.)  tensor([-2.9436,  4.8858,  1.0381]) \t 1 \t 1\n",
      "We got 26 correct!\n",
      "29.)  tensor([ 4.5932, -2.2788, -2.8989]) \t 0 \t 0\n",
      "We got 27 correct!\n",
      "30.)  tensor([-4.5797,  5.4566,  3.1690]) \t 1 \t 1\n",
      "We got 28 correct!\n"
     ]
    }
   ],
   "source": [
    "correct = 0\n",
    "with torch.no_grad():\n",
    "  for i, data in enumerate(X_test):\n",
    "    y_val = model.forward(data)\n",
    "\n",
    "    if y_test[i] == 0:\n",
    "      x = \"Setosa\"\n",
    "    elif y_test[i] == 1:\n",
    "      x = 'Versicolor'\n",
    "    else:\n",
    "      x = 'Virginica'\n",
    "\n",
    "    print(f'{i+1}.)  {str(y_val)} \\t {y_test[i]} \\t {y_val.argmax().item()}')\n",
    "    \n",
    "    if y_val.argmax().item() == y_test[i]:\n",
    "      correct +=1\n",
    "\n",
    "    print(f'We got {correct} correct!')"
   ]
  },
  {
   "cell_type": "code",
   "execution_count": 17,
   "metadata": {},
   "outputs": [],
   "source": [
    "new_iris = torch.tensor([4.7, 3.2, 1.3, 0.2])"
   ]
  },
  {
   "cell_type": "code",
   "execution_count": 18,
   "metadata": {},
   "outputs": [
    {
     "name": "stdout",
     "output_type": "stream",
     "text": [
      "tensor([ 4.5445, -2.2478, -2.8698])\n"
     ]
    }
   ],
   "source": [
    "with torch.no_grad():\n",
    "  print(model(new_iris))"
   ]
  },
  {
   "cell_type": "code",
   "execution_count": 19,
   "metadata": {},
   "outputs": [],
   "source": [
    "newer_iris = torch.tensor([5.9, 3.0, 5.1, 1.8])"
   ]
  },
  {
   "cell_type": "code",
   "execution_count": 20,
   "metadata": {},
   "outputs": [
    {
     "name": "stdout",
     "output_type": "stream",
     "text": [
      "tensor([-5.9960,  4.5080,  6.6831])\n"
     ]
    }
   ],
   "source": [
    "with torch.no_grad():\n",
    "  print(model(newer_iris))"
   ]
  },
  {
   "cell_type": "code",
   "execution_count": 21,
   "metadata": {},
   "outputs": [],
   "source": [
    "torch.save(model.state_dict(), 'my_model.pt')"
   ]
  },
  {
   "cell_type": "code",
   "execution_count": 22,
   "metadata": {},
   "outputs": [
    {
     "data": {
      "text/plain": [
       "<All keys matched successfully>"
      ]
     },
     "execution_count": 22,
     "metadata": {},
     "output_type": "execute_result"
    }
   ],
   "source": [
    "new_model = Model()\n",
    "new_model.load_state_dict(torch.load('my_model.pt'))"
   ]
  },
  {
   "cell_type": "code",
   "execution_count": 23,
   "metadata": {},
   "outputs": [
    {
     "data": {
      "text/plain": [
       "Model(\n",
       "  (fc1): Linear(in_features=4, out_features=8, bias=True)\n",
       "  (fc2): Linear(in_features=8, out_features=9, bias=True)\n",
       "  (out): Linear(in_features=9, out_features=3, bias=True)\n",
       ")"
      ]
     },
     "execution_count": 23,
     "metadata": {},
     "output_type": "execute_result"
    }
   ],
   "source": [
    "new_model.eval()"
   ]
  }
 ],
 "metadata": {
  "kernelspec": {
   "display_name": "base",
   "language": "python",
   "name": "python3"
  },
  "language_info": {
   "codemirror_mode": {
    "name": "ipython",
    "version": 3
   },
   "file_extension": ".py",
   "mimetype": "text/x-python",
   "name": "python",
   "nbconvert_exporter": "python",
   "pygments_lexer": "ipython3",
   "version": "3.11.5"
  }
 },
 "nbformat": 4,
 "nbformat_minor": 2
}
